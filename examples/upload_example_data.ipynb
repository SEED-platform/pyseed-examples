{
 "cells": [
  {
   "attachments": {},
   "cell_type": "markdown",
   "metadata": {
    "pycharm": {
     "name": "#%% md\n"
    }
   },
   "source": [
    "# Upload Data to SEED Instance"
   ]
  },
  {
   "cell_type": "code",
   "execution_count": 6,
   "metadata": {
    "pycharm": {
     "is_executing": false,
     "name": "#%% \n"
    }
   },
   "outputs": [],
   "source": [
    "# import libraries\n",
    "import os\n",
    "import json \n",
    "import copy\n",
    "\n",
    "from datetime import date\n",
    "from pathlib import Path\n",
    "\n",
    "from pyseed.seed_client import SeedClient\n",
    "\n",
    "curdir = Path(os.curdir).absolute().parent\n",
    "seed_config = curdir / Path('seed-config-local.json')\n",
    "org_name = 'Program Tracking 1'\n",
    "# seed_config = curdir / Path('seed-config-dev1.json')\n",
    "# org_name = 'Program Tracking 1'\n",
    "# seed_config = curdir / Path('seed-config-prod.json')\n",
    "# org_name = 'Program Tracking 1'\n",
    "data_dir = curdir / 'data'\n",
    "\n",
    "client = SeedClient(\n",
    "    None,\n",
    "    connection_config_filepath=seed_config,\n",
    ")"
   ]
  },
  {
   "cell_type": "code",
   "execution_count": 8,
   "metadata": {},
   "outputs": [
    {
     "name": "stdout",
     "output_type": "stream",
     "text": [
      "You are connecting to the following instance:\n",
      "\tHost: http://127.0.0.1:8000/\n",
      "\tVersion: 2.18.1\n",
      "\tSHA: 6bec6092b\n",
      "\tUsername: nicholas.long@nrel.gov\n"
     ]
    }
   ],
   "source": [
    "client.get_org_by_name(org_name, set_org_id=True)\n",
    "\n",
    "client_info = client.instance_information()\n",
    "print(\"You are connecting to the following instance:\")\n",
    "print(f\"\\tHost: {client_info['host']}\")\n",
    "print(f\"\\tVersion: {client_info['version']}\")\n",
    "print(f\"\\tSHA: {client_info['sha']}\")\n",
    "print(f\"\\tUsername: {client_info['username']}\")"
   ]
  },
  {
   "cell_type": "code",
   "execution_count": 29,
   "metadata": {},
   "outputs": [
    {
     "name": "stdout",
     "output_type": "stream",
     "text": [
      "SEED data will be loaded from /Users/nlong/working/seed/seed/seed/tests/data/bps\n",
      "SEED mappings will be loaded from /Users/nlong/working/seed/pyseed-examples/examples/data/bps\n"
     ]
    }
   ],
   "source": [
    "# The data_dir is in SEED's repo\n",
    "data_dir = Path().absolute().parent.parent / 'seed' / 'seed' / 'tests' / 'data' / 'bps'\n",
    "\n",
    "# path to where the mapping files exist\n",
    "mappings_dir = Path().parent.absolute() / 'data' / 'bps'\n",
    "\n",
    "if not data_dir.exists():\n",
    "    print(f\"Data directory '{data_dir}' does not exist. Please clone the SEED repo and try again.\")\n",
    "    \n",
    "if not mappings_dir.exists():\n",
    "    print(f\"Mapping directory '{mappings_dir}' does not exist, which should be in data/bps\")\n",
    "    \n",
    "print(f\"SEED data will be loaded from {data_dir}\")\n",
    "print(f\"SEED mappings will be loaded from {mappings_dir}\")"
   ]
  },
  {
   "cell_type": "code",
   "execution_count": 30,
   "metadata": {},
   "outputs": [
    {
     "data": {
      "text/plain": [
       "{'id': 31,\n",
       " 'profile_type': 'Normal',\n",
       " 'name': 'ESPM Webservice',\n",
       " 'mappings': [{'from_field': 'address_1',\n",
       "   'from_units': '',\n",
       "   'to_table_name': 'PropertyState',\n",
       "   'to_field': 'address_line_1'},\n",
       "  {'from_field': 'address_2',\n",
       "   'from_units': '',\n",
       "   'to_table_name': 'PropertyState',\n",
       "   'to_field': 'address_line_2'},\n",
       "  {'from_field': 'city',\n",
       "   'from_units': '',\n",
       "   'to_table_name': 'PropertyState',\n",
       "   'to_field': 'city'},\n",
       "  {'from_field': 'custom_property_id_1_id',\n",
       "   'from_units': '',\n",
       "   'to_table_name': 'PropertyState',\n",
       "   'to_field': 'audit_template_building_id'},\n",
       "  {'from_field': 'custom_property_id_1_name',\n",
       "   'from_units': '',\n",
       "   'to_table_name': 'PropertyState',\n",
       "   'to_field': 'Audit Template ID'},\n",
       "  {'from_field': 'energy_star_score',\n",
       "   'from_units': '',\n",
       "   'to_table_name': 'PropertyState',\n",
       "   'to_field': 'energy_score'},\n",
       "  {'from_field': 'national_median_site_eui',\n",
       "   'from_units': '',\n",
       "   'to_table_name': 'PropertyState',\n",
       "   'to_field': 'National Median Site EUI'},\n",
       "  {'from_field': 'national_median_source_eui',\n",
       "   'from_units': '',\n",
       "   'to_table_name': 'PropertyState',\n",
       "   'to_field': 'National Median Source EUI'},\n",
       "  {'from_field': 'parent_property_id',\n",
       "   'from_units': '',\n",
       "   'to_table_name': 'PropertyState',\n",
       "   'to_field': 'pm_parent_property_id'},\n",
       "  {'from_field': 'parent_property_name',\n",
       "   'from_units': '',\n",
       "   'to_table_name': 'PropertyState',\n",
       "   'to_field': 'Parent Property Name'},\n",
       "  {'from_field': 'period_ending_date',\n",
       "   'from_units': '',\n",
       "   'to_table_name': 'PropertyState',\n",
       "   'to_field': 'year_ending'},\n",
       "  {'from_field': 'postal_code',\n",
       "   'from_units': '',\n",
       "   'to_table_name': 'PropertyState',\n",
       "   'to_field': 'postal_code'},\n",
       "  {'from_field': 'property_floor_area_buildngs_and_parking',\n",
       "   'from_units': '',\n",
       "   'to_table_name': 'PropertyState',\n",
       "   'to_field': 'Gross Floor Area with Parking'},\n",
       "  {'from_field': 'property_floor_area_parking',\n",
       "   'from_units': '',\n",
       "   'to_table_name': 'PropertyState',\n",
       "   'to_field': 'Parking Gross Floor Area'},\n",
       "  {'from_field': 'property_id',\n",
       "   'from_units': '',\n",
       "   'to_table_name': 'PropertyState',\n",
       "   'to_field': 'pm_property_id'},\n",
       "  {'from_field': 'property_name',\n",
       "   'from_units': '',\n",
       "   'to_table_name': 'PropertyState',\n",
       "   'to_field': 'property_name'},\n",
       "  {'from_field': 'site_eui',\n",
       "   'from_units': 'kBtu/ft**2/year',\n",
       "   'to_table_name': 'PropertyState',\n",
       "   'to_field': 'site_eui'},\n",
       "  {'from_field': 'source_eui',\n",
       "   'from_units': 'kBtu/ft**2/year',\n",
       "   'to_table_name': 'PropertyState',\n",
       "   'to_field': 'source_eui'},\n",
       "  {'from_field': 'state_province',\n",
       "   'from_units': '',\n",
       "   'to_table_name': 'PropertyState',\n",
       "   'to_field': 'state'},\n",
       "  {'from_field': 'total_ghg_emissions',\n",
       "   'from_units': 'MtCO2e/year',\n",
       "   'to_table_name': 'PropertyState',\n",
       "   'to_field': 'total_ghg_emissions'},\n",
       "  {'from_field': 'total_ghg_emissions_intensity',\n",
       "   'from_units': 'MtCO2e/ft**2/year',\n",
       "   'to_table_name': 'PropertyState',\n",
       "   'to_field': 'total_ghg_emissions_intensity'},\n",
       "  {'from_field': 'weather_normalized_site_district_steam_use',\n",
       "   'from_units': '',\n",
       "   'to_table_name': 'PropertyState',\n",
       "   'to_field': 'Weather Normalized Site District Steam Use'},\n",
       "  {'from_field': 'weather_normalized_site_electricity',\n",
       "   'from_units': '',\n",
       "   'to_table_name': 'PropertyState',\n",
       "   'to_field': 'Weather Normalized Site Electricity'},\n",
       "  {'from_field': 'weather_normalized_site_eui',\n",
       "   'from_units': 'kBtu/ft**2/year',\n",
       "   'to_table_name': 'PropertyState',\n",
       "   'to_field': 'site_eui_weather_normalized'},\n",
       "  {'from_field': 'weather_normalized_site_natural_gas_use',\n",
       "   'from_units': '',\n",
       "   'to_table_name': 'PropertyState',\n",
       "   'to_field': 'Weather Normalized Site Natural Gas Use'},\n",
       "  {'from_field': 'weather_normalized_source_eui',\n",
       "   'from_units': 'kBtu/ft**2/year',\n",
       "   'to_table_name': 'PropertyState',\n",
       "   'to_field': 'source_eui_weather_normalized'},\n",
       "  {'from_field': 'year_built',\n",
       "   'from_units': '',\n",
       "   'to_table_name': 'PropertyState',\n",
       "   'to_field': 'year_built'}],\n",
       " 'created': '2023-06-10T18:26:30.700902-07:00',\n",
       " 'updated': '2023-06-10T18:26:30.700926-07:00',\n",
       " 'organizations': [8]}"
      ]
     },
     "execution_count": 30,
     "metadata": {},
     "output_type": "execute_result"
    }
   ],
   "source": [
    "# Import data from downloaded ESPM \n",
    "\n",
    "# Creating mapping profile\n",
    "client.create_or_update_column_mapping_profile_from_file('ESPM Webservice', mappings_dir / 'espm-webservice-mappings.csv')\n"
   ]
  },
  {
   "cell_type": "code",
   "execution_count": 33,
   "metadata": {},
   "outputs": [
    {
     "name": "stdout",
     "output_type": "stream",
     "text": [
      "uploading CBL-building-performance-standards-sample-2019.xlsx\n",
      "uploading CBL-building-performance-standards-sample-2020.xlsx\n",
      "uploading CBL-building-performance-standards-sample-2021.xlsx\n",
      "uploading CBL-building-performance-standards-sample-2022.xlsx\n"
     ]
    }
   ],
   "source": [
    "for cycle_year in range(2019, 2023):\n",
    "    cycle = client.get_or_create_cycle(f\"{str(cycle_year)}\", date(cycle_year, 1, 1), date(cycle_year, 12, 31), set_cycle_id=True)\n",
    "\n",
    "    # upload CBL data\n",
    "    upload_file_name = f'CBL-building-performance-standards-sample-{cycle_year}.xlsx'\n",
    "    if (data_dir / upload_file_name).exists():\n",
    "        print(f'uploading {upload_file_name}')\n",
    "        client.upload_and_match_datafile(\n",
    "            'cbl-data',\n",
    "            str(data_dir / upload_file_name),\n",
    "            'cbl mappings',\n",
    "            str(mappings_dir / 'cbl-mappings.csv'),\n",
    "            import_meters_if_exist=False,\n",
    "        )   \n",
    "    else:\n",
    "        print(f'Could not find {data_dir / upload_file_name}, exiting...')\n",
    "        exit()\n",
    "\n",
    "  "
   ]
  },
  {
   "cell_type": "code",
   "execution_count": 34,
   "metadata": {},
   "outputs": [
    {
     "name": "stdout",
     "output_type": "stream",
     "text": [
      "uploading BPS-sample-Targets-2019.xlsx\n",
      "uploading BPS-sample-Targets-2020.xlsx\n",
      "uploading BPS-sample-Targets-2021.xlsx\n",
      "uploading BPS-sample-Targets-2022.xlsx\n"
     ]
    }
   ],
   "source": [
    "# upload targets\n",
    "for cycle_year in range(2019, 2023):\n",
    "    cycle = client.get_or_create_cycle(f\"{str(cycle_year)}\", date(cycle_year, 1, 1), date(cycle_year, 12, 31), set_cycle_id=True)\n",
    "\n",
    "    upload_file_name = f'BPS-sample-Targets-{cycle_year}.xlsx'\n",
    "    if (data_dir / upload_file_name).exists():\n",
    "        print(f'uploading {upload_file_name}')\n",
    "        client.upload_and_match_datafile(\n",
    "            'bps-target-data',\n",
    "            str(data_dir / upload_file_name),\n",
    "            'bps target mappings',\n",
    "            str(mappings_dir / 'bps-targets-mappings.csv'),\n",
    "            import_meters_if_exist=False,\n",
    "        )\n",
    "    else:\n",
    "        print(f'Could not find {data_dir / upload_file_name}, exiting...')"
   ]
  }
 ],
 "metadata": {
  "kernelspec": {
   "display_name": "Python 3 (ipykernel)",
   "language": "python",
   "name": "python3"
  },
  "language_info": {
   "codemirror_mode": {
    "name": "ipython",
    "version": 3
   },
   "file_extension": ".py",
   "mimetype": "text/x-python",
   "name": "python",
   "nbconvert_exporter": "python",
   "pygments_lexer": "ipython3",
   "version": "3.9.7"
  },
  "pycharm": {
   "stem_cell": {
    "cell_type": "raw",
    "metadata": {
     "collapsed": false
    },
    "source": []
   }
  },
  "vscode": {
   "interpreter": {
    "hash": "ae2cbe1aedafa22ede71d320e8d55d3370811ac34a717fd95adb17a63c0a6212"
   }
  }
 },
 "nbformat": 4,
 "nbformat_minor": 4
}
